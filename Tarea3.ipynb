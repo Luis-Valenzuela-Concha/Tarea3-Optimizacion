{
 "cells": [
  {
   "cell_type": "markdown",
   "metadata": {},
   "source": [
    "# Tarea 3 - Optimización\n",
    "- Integrantes: \n",
    "    - Samuel Coña J. - \n",
    "    - Daniel Lopez B. -\n",
    "    - Dayan Sáez C. -\n",
    "    - Luis Valenzuela C. - 2020437548"
   ]
  },
  {
   "cell_type": "markdown",
   "metadata": {},
   "source": [
    "Instancia a resolver:\n",
    "\n",
    "<table>\n",
    "  <tr>\n",
    "    <th></th>\n",
    "    <th colspan=\"4\">\n",
    "      Máquinas r</th>\n",
    "  </tr>\n",
    "  <tr>\n",
    "    <th>Trabajo i</th>\n",
    "    <th>M<sub>1</th>\n",
    "    <th>M<sub>2</th>\n",
    "    <th>M<sub>3</th>\n",
    "    <th>M<sub>4</th>\n",
    "  </tr>\n",
    "  <tr>\n",
    "    <th>J<sub>1</th>\n",
    "    <th>9</th>\n",
    "    <th>13</th>\n",
    "    <th>15</th>\n",
    "    <th>20</th>\n",
    "  </tr>\n",
    "  <tr>\n",
    "    <th>J<sub>2</th>\n",
    "    <th>11</th>\n",
    "    <th>17</th>\n",
    "    <th>18</th>\n",
    "    <th>24</th>\n",
    "  </tr>\n",
    "  <tr>\n",
    "    <th>J<sub>3</th>\n",
    "    <th>8</th>\n",
    "    <th>12</th>\n",
    "    <th>14</th>\n",
    "    <th>18</th>\n",
    "  </tr>\n",
    "  <tr>\n",
    "    <th>J<sub>4</th>\n",
    "    <th>6</th>\n",
    "    <th>10</th>\n",
    "    <th>12</th>\n",
    "    <th>15</th>\n",
    "  </tr>"
   ]
  },
  {
   "cell_type": "code",
   "execution_count": 68,
   "metadata": {},
   "outputs": [],
   "source": [
    "T = [[9,13,15,20],\n",
    "     [11,17,18,24],\n",
    "     [8,12,14,18],\n",
    "     [6,10,12,15]]"
   ]
  },
  {
   "cell_type": "markdown",
   "metadata": {},
   "source": [
    "### Párametros de los modelos\n"
   ]
  },
  {
   "cell_type": "markdown",
   "metadata": {},
   "source": [
    "### Modelo Wagner\n",
    "\n",
    "$$ Min \\quad C_{max} = C_{MN} $$\n",
    "$$ \\sum_{j=1}^{N} Z_{ij} = 1; \\quad (1 \\le i \\le N), \\quad (1) $$ \n",
    "$$ \\sum_{i=1}^{N} Z_{ij} = 1; \\quad (1 \\le j \\le N), \\quad (2)$$\n",
    "$$ \\sum_{i=1}^{N} T_{ri}Z_{i,j+1} - \\sum_{i=1}^{N} T_{r+1,i}Z_{ij} + X_{r,j+1} - X_{r+1,j+1} + Y_{r,j+1} - Y_{rj} = 0; \\quad (1 \\le r \\le M-1;1 \\le j \\le N-1), \\quad (3)\n",
    "$$\n",
    "\n",
    "$$ \\sum_{i=1}^{N} T_{ri}Z_{i1} + X_{r1} - X_{r+1,1} + Y_{r1} = 0; \\quad (1 \\le r \\le M-1), \\quad (4) $$\n",
    "\n",
    "$$ C_{MN} = \\sum_{i=1}^{N} T_{Mi} + \\sum_{p=1}^{N} X_{Mp}. \\quad (5) $$"
   ]
  },
  {
   "cell_type": "markdown",
   "metadata": {},
   "source": [
    "#### Implemetación en PuLP"
   ]
  },
  {
   "cell_type": "code",
   "execution_count": 113,
   "metadata": {},
   "outputs": [
    {
     "name": "stdout",
     "output_type": "stream",
     "text": [
      "Optimal Solution:\n",
      "X_0_0 = 0.0\n",
      "X_0_1 = 6.0\n",
      "X_0_2 = 16.0\n",
      "X_0_3 = 28.0\n",
      "X_1_0 = 0.0\n",
      "X_1_1 = 0.0\n",
      "X_1_2 = 0.0\n",
      "X_1_3 = 0.0\n",
      "X_2_0 = 0.0\n",
      "X_2_1 = 0.0\n",
      "X_2_2 = 0.0\n",
      "X_2_3 = 0.0\n",
      "X_3_0 = 0.0\n",
      "X_3_1 = 0.0\n",
      "X_3_2 = 1.0\n",
      "X_3_3 = 0.0\n",
      "Y_0_0 = 0.0\n",
      "Y_0_1 = 0.0\n",
      "Y_0_2 = 0.0\n",
      "Y_1_0 = 2.0\n",
      "Y_1_1 = 0.0\n",
      "Y_1_2 = 1.0\n",
      "Y_2_0 = 5.0\n",
      "Y_2_1 = 1.0\n",
      "Y_2_2 = 4.0\n",
      "Y_3_0 = 7.0\n",
      "Y_3_1 = 0.0\n",
      "Y_3_2 = 5.0\n",
      "Z_0_0 = 0.0\n",
      "Z_0_1 = 0.0\n",
      "Z_0_2 = 1.0\n",
      "Z_0_3 = 0.0\n",
      "Z_1_0 = 0.0\n",
      "Z_1_1 = 0.0\n",
      "Z_1_2 = 0.0\n",
      "Z_1_3 = 1.0\n",
      "Z_2_0 = 0.0\n",
      "Z_2_1 = 1.0\n",
      "Z_2_2 = 0.0\n",
      "Z_2_3 = 0.0\n",
      "Z_3_0 = 1.0\n",
      "Z_3_1 = 0.0\n",
      "Z_3_2 = 0.0\n",
      "Z_3_3 = 0.0\n",
      "Objective Value: 105.0\n"
     ]
    }
   ],
   "source": [
    "import pulp as lp\n",
    "import numpy as np\n",
    "\n",
    "T = [[9,13,15,20],\n",
    "     [11,17,18,24],\n",
    "     [8,12,14,18],\n",
    "     [6,10,12,15]]\n",
    "\n",
    "# Create the LP problem\n",
    "model = lp.LpProblem(\"Wagner_Model\", lp.LpMinimize)\n",
    "\n",
    "# Define the decision variables\n",
    "N = len(T[0])  # Number of jobs\n",
    "M = len(T)  # Number of machines\n",
    "\n",
    "Z = lp.LpVariable.dicts(\"Z\", (range(N), range(N)), cat='Binary')\n",
    "X = lp.LpVariable.dicts(\"X\", (range(M), range(N + 1)), lowBound=0, cat='Integer')\n",
    "Y = lp.LpVariable.dicts(\"Y\", (range(M), range(N + 1)), lowBound=0, cat='Integer')\n",
    "\n",
    "# Define the objective function\n",
    "model += lp.lpSum(T[i][M - 1] for i in range(N)) + lp.lpSum(X[i][M - 1] for i in range(N))\n",
    "\n",
    "# Define the constraints\n",
    "for i in range(N):\n",
    "    model += lp.lpSum(Z[i][j] for j in range(N)) == 1\n",
    "    \n",
    "for j in range(N):\n",
    "    model += lp.lpSum(Z[i][j] for i in range(N)) == 1\n",
    "\n",
    "for r in range(M - 1):\n",
    "    for j in range(N - 1):\n",
    "        model += (lp.lpSum(T[i][r] * Z[i][j + 1] for i in range(N)) - lp.lpSum(T[i][r + 1] * Z[i][j] for i in range(N)) + \n",
    "                  X[j + 1][r] - X[j + 1][r + 1] + Y[j + 1][r] - Y[j][r]) == 0\n",
    "\n",
    "for r in range(M - 1):\n",
    "    model += lp.lpSum(T[i][r] * Z[i][0] for i in range(N)) +  X[0][r] - X[0][r + 1] + Y[0][r] == 0\n",
    "\n",
    "# Solve the LP problem\n",
    "solution = model.solve()\n",
    "\n",
    "# Print the optimal solution\n",
    "\n",
    "print(\"Optimal Solution:\")\n",
    "for v in model.variables():\n",
    "    print(v.name, \"=\", v.varValue)\n",
    "print(\"Objective Value:\", lp.value(model.objective))\n"
   ]
  },
  {
   "cell_type": "markdown",
   "metadata": {},
   "source": [
    "#### Carta Gantt   "
   ]
  },
  {
   "cell_type": "code",
   "execution_count": null,
   "metadata": {},
   "outputs": [],
   "source": []
  },
  {
   "cell_type": "markdown",
   "metadata": {},
   "source": [
    "#### Implemetación en CPLEX"
   ]
  },
  {
   "cell_type": "code",
   "execution_count": null,
   "metadata": {},
   "outputs": [],
   "source": []
  },
  {
   "cell_type": "markdown",
   "metadata": {},
   "source": [
    "#### Carta Gantt   "
   ]
  },
  {
   "cell_type": "markdown",
   "metadata": {},
   "source": [
    "#### Implemetación en GUROBI"
   ]
  },
  {
   "cell_type": "code",
   "execution_count": null,
   "metadata": {},
   "outputs": [],
   "source": []
  },
  {
   "cell_type": "markdown",
   "metadata": {},
   "source": [
    "#### Carta Gantt   "
   ]
  },
  {
   "cell_type": "markdown",
   "metadata": {},
   "source": [
    "### Modelo Wilson"
   ]
  },
  {
   "cell_type": "markdown",
   "metadata": {},
   "source": [
    "### Modelo Manne"
   ]
  },
  {
   "cell_type": "markdown",
   "metadata": {},
   "source": [
    "### Modelo Liao-You"
   ]
  }
 ],
 "metadata": {
  "kernelspec": {
   "display_name": "Python 3",
   "language": "python",
   "name": "python3"
  },
  "language_info": {
   "codemirror_mode": {
    "name": "ipython",
    "version": 3
   },
   "file_extension": ".py",
   "mimetype": "text/x-python",
   "name": "python",
   "nbconvert_exporter": "python",
   "pygments_lexer": "ipython3",
   "version": "3.11.6"
  }
 },
 "nbformat": 4,
 "nbformat_minor": 2
}
