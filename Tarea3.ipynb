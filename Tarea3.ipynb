{
 "cells": [
  {
   "cell_type": "markdown",
   "metadata": {},
   "source": [
    "# Tarea 3 - Optimización\n",
    "- Integrantes: \n",
    "    - Samuel Coña J. - \n",
    "    - Daniel Lopez B. -\n",
    "    - Dayan Sáez C. -\n",
    "    - Luis Valenzuela C. - 2020437548"
   ]
  },
  {
   "cell_type": "markdown",
   "metadata": {},
   "source": [
    "Instancia a resolver:\n",
    "\n",
    "<table>\n",
    "  <tr>\n",
    "    <th></th>\n",
    "    <th colspan=\"4\">\n",
    "      Máquinas r</th>\n",
    "  </tr>\n",
    "  <tr>\n",
    "    <th>Trabajo i</th>\n",
    "    <th>M<sub>1</th>\n",
    "    <th>M<sub>2</th>\n",
    "    <th>M<sub>3</th>\n",
    "    <th>M<sub>4</th>\n",
    "  </tr>\n",
    "  <tr>\n",
    "    <th>J<sub>1</th>\n",
    "    <th>9</th>\n",
    "    <th>13</th>\n",
    "    <th>15</th>\n",
    "    <th>20</th>\n",
    "  </tr>\n",
    "  <tr>\n",
    "    <th>J<sub>2</th>\n",
    "    <th>11</th>\n",
    "    <th>17</th>\n",
    "    <th>18</th>\n",
    "    <th>24</th>\n",
    "  </tr>\n",
    "  <tr>\n",
    "    <th>J<sub>3</th>\n",
    "    <th>8</th>\n",
    "    <th>12</th>\n",
    "    <th>14</th>\n",
    "    <th>18</th>\n",
    "  </tr>\n",
    "  <tr>\n",
    "    <th>J<sub>4</th>\n",
    "    <th>6</th>\n",
    "    <th>10</th>\n",
    "    <th>12</th>\n",
    "    <th>15</th>\n",
    "  </tr>"
   ]
  },
  {
   "cell_type": "code",
   "execution_count": 9,
   "metadata": {},
   "outputs": [],
   "source": [
    "T = [[9,13,15,20],[11,17,18,24],[8,12,14,18],[6,10,12,15]]"
   ]
  }
 ],
 "metadata": {
  "kernelspec": {
   "display_name": "Python 3",
   "language": "python",
   "name": "python3"
  },
  "language_info": {
   "codemirror_mode": {
    "name": "ipython",
    "version": 3
   },
   "file_extension": ".py",
   "mimetype": "text/x-python",
   "name": "python",
   "nbconvert_exporter": "python",
   "pygments_lexer": "ipython3",
   "version": "3.11.6"
  }
 },
 "nbformat": 4,
 "nbformat_minor": 2
}
