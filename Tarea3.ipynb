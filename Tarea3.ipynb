{
 "cells": [
  {
   "cell_type": "markdown",
   "metadata": {},
   "source": [
    "# Tarea 3 - Optimización\n",
    "- Integrantes: \n",
    "    - Samuel Coña J. - \n",
    "    - Daniel Lopez B. -\n",
    "    - Dayan Sáez C. -\n",
    "    - Luis Valenzuela C. - 2020437548"
   ]
  },
  {
   "cell_type": "markdown",
   "metadata": {},
   "source": [
    "Instancia a resolver:\n",
    "\n",
    "<table>\n",
    "  <tr>\n",
    "    <th></th>\n",
    "    <th colspan=\"4\">\n",
    "      Máquinas r</th>\n",
    "  </tr>\n",
    "  <tr>\n",
    "    <th>Trabajo i</th>\n",
    "    <th>M<sub>1</th>\n",
    "    <th>M<sub>2</th>\n",
    "    <th>M<sub>3</th>\n",
    "    <th>M<sub>4</th>\n",
    "  </tr>\n",
    "  <tr>\n",
    "    <th>J<sub>1</th>\n",
    "    <th>9</th>\n",
    "    <th>13</th>\n",
    "    <th>15</th>\n",
    "    <th>20</th>\n",
    "  </tr>\n",
    "  <tr>\n",
    "    <th>J<sub>2</th>\n",
    "    <th>11</th>\n",
    "    <th>17</th>\n",
    "    <th>18</th>\n",
    "    <th>24</th>\n",
    "  </tr>\n",
    "  <tr>\n",
    "    <th>J<sub>3</th>\n",
    "    <th>8</th>\n",
    "    <th>12</th>\n",
    "    <th>14</th>\n",
    "    <th>18</th>\n",
    "  </tr>\n",
    "  <tr>\n",
    "    <th>J<sub>4</th>\n",
    "    <th>6</th>\n",
    "    <th>10</th>\n",
    "    <th>12</th>\n",
    "    <th>15</th>\n",
    "  </tr>"
   ]
  },
  {
   "cell_type": "code",
   "execution_count": 68,
   "metadata": {},
   "outputs": [],
   "source": [
    "T = [[9,13,15,20],\n",
    "     [11,17,18,24],\n",
    "     [8,12,14,18],\n",
    "     [6,10,12,15]]"
   ]
  },
  {
   "cell_type": "markdown",
   "metadata": {},
   "source": [
    "### Párametros de los modelos\n"
   ]
  },
  {
   "cell_type": "markdown",
   "metadata": {},
   "source": [
    "### Modelo Wagner\n",
    "\n",
    "$$ Min \\quad C_{max} = C_{MN} $$\n",
    "$$ \\sum_{j=1}^{N} Z_{ij} = 1; \\quad (1 \\le i \\le N), \\quad (1) $$ \n",
    "$$ \\sum_{i=1}^{N} Z_{ij} = 1; \\quad (1 \\le j \\le N), \\quad (2)$$\n",
    "$$ \\sum_{i=1}^{N} T_{ri}Z_{i,j+1} - \\sum_{i=1}^{N} T_{r+1,i}Z_{ij} + X_{r,j+1} - X_{r+1,j+1} + Y_{r,j+1} - Y_{rj} = 0; \\quad (1 \\le r \\le M-1;1 \\le j \\le N-1), \\quad (3)\n",
    "$$\n",
    "\n",
    "$$ \\sum_{i=1}^{N} T_{ri}Z_{i1} + X_{r1} - X_{r+1,1} + Y_{r1} = 0; \\quad (1 \\le r \\le M-1), \\quad (4) $$\n",
    "\n",
    "$$ C_{MN} = \\sum_{i=1}^{N} T_{Mi} + \\sum_{p=1}^{N} X_{Mp}. \\quad (5) $$"
   ]
  },
  {
   "cell_type": "markdown",
   "metadata": {},
   "source": [
    "#### Implemetación en PuLP"
   ]
  },
  {
   "cell_type": "code",
   "execution_count": 200,
   "metadata": {},
   "outputs": [
    {
     "name": "stdout",
     "output_type": "stream",
     "text": [
      "Objective Value: 105.0\n"
     ]
    }
   ],
   "source": [
    "import pulp as lp\n",
    "import numpy as np\n",
    "\n",
    "T = [[9,13,15,20],\n",
    "     [11,17,18,24],\n",
    "     [8,12,14,18],\n",
    "     [6,10,12,15]]\n",
    "\n",
    "# Create the LP problem\n",
    "model = lp.LpProblem(\"Wagner_Model\", lp.LpMinimize)\n",
    "\n",
    "# Define the decision variables\n",
    "N = len(T[0])  # Number of jobs\n",
    "M = len(T)  # Number of machines\n",
    "\n",
    "Z = lp.LpVariable.dicts(\"Z\", (range(N), range(N)), cat='Binary')\n",
    "X = lp.LpVariable.dicts(\"X\", (range(M), range(N + 1)), lowBound=0, cat='Integer')\n",
    "Y = lp.LpVariable.dicts(\"Y\", (range(M), range(N + 1)), lowBound=0, cat='Integer')\n",
    "\n",
    "# Define the objective function\n",
    "model += lp.lpSum(T[i][M - 1] for i in range(N)) + lp.lpSum(X[i][M - 1] for i in range(N))\n",
    "\n",
    "# Define the constraints\n",
    "for i in range(N):\n",
    "    model += lp.lpSum(Z[i][j] for j in range(N)) == 1\n",
    "    \n",
    "for j in range(N):\n",
    "    model += lp.lpSum(Z[i][j] for i in range(N)) == 1\n",
    "\n",
    "for r in range(M - 1):\n",
    "    for j in range(N - 1):\n",
    "        model += lp.lpSum(T[i][r] * Z[i][j + 1] for i in range(N)) - lp.lpSum(T[i][r + 1] * Z[i][j] for i in range(N)) + \\\n",
    "                  X[j + 1][r] - X[j + 1][r + 1] + Y[j + 1][r] - Y[j][r] == 0\n",
    "\n",
    "for r in range(M - 1):\n",
    "    model += lp.lpSum(T[i][r] * Z[i][0] for i in range(N)) +  X[0][r] - X[0][r + 1] + Y[0][r] == 0\n",
    "\n",
    "# Solve the LP problem\n",
    "solution = model.solve()\n",
    "\n",
    "# Print the optimal solution\n",
    "\n",
    "print(\"Objective Value:\", lp.value(model.objective))\n"
   ]
  },
  {
   "cell_type": "markdown",
   "metadata": {},
   "source": [
    "#### Carta Gantt   "
   ]
  },
  {
   "cell_type": "code",
   "execution_count": 246,
   "metadata": {},
   "outputs": [
    {
     "data": {
      "image/png": "[encoded data removed]",
      "text/plain": [
       "<Figure size 640x480 with 1 Axes>"
      ]
     },
     "metadata": {},
     "output_type": "display_data"
    }
   ],
   "source": [
    "import matplotlib.pyplot as plt\n",
    "\n",
    "ones_in_Z = [(i, j) for i in range(N) for j in range(N) if Z[i][j].varValue == 1]\n",
    "ones_in_Z_sorted = sorted(ones_in_Z, key=lambda x: x[1])\n",
    "\n",
    "ht = lp.value(model.objective)\n",
    "nmaquinas = 4\n",
    "hbar = 10\n",
    "maquinas = [\"M1\", \"M2\", \"M3\", \"M4\"]\n",
    "\n",
    "fig, gantt = plt.subplots()\n",
    "gantt.set_xlabel('Tiempo')\n",
    "gantt.set_ylabel('Máquinas')\n",
    "gantt.set_xlim(0, ht)\n",
    "gantt.set_ylim(0, nmaquinas * hbar)\n",
    "\n",
    "gantt.set_yticks(np.arange(hbar, nmaquinas * hbar, hbar),minor=True)\n",
    "gantt.grid(True, axis='y',which='minor')\n",
    "\n",
    "gantt.set_yticks(np.arange(hbar/2, nmaquinas * hbar, hbar))\n",
    "gantt.set_yticklabels(maquinas)\n",
    "\n",
    "for i in range(M):\n",
    "    inicio = lp.value(X[0][i])\n",
    "    for j in range(N):\n",
    "        largo = T[ones_in_Z_sorted[j][0]][i]\n",
    "        if (j == 0): color = '#00BB00'\n",
    "        if (j == 1): color = 'blue'\n",
    "        if (j == 2): color = 'red'\n",
    "        if (j == 3): color = '#EECC00'\n",
    "        gantt.broken_barh([(inicio, largo)], (i * hbar, hbar), facecolors=color)\n",
    "        gantt.text(x=(inicio + largo/4), y=(i*hbar + hbar/3), s='('+str(largo)+')', va='center', color='white', fontweight='bold')\n",
    "        gantt.text(x=(inicio + largo/4), y=(i*hbar + 3*hbar/5), s='T'+str(j+1), va='center', color='white', fontweight='bold')\n",
    "        inicio += largo"
   ]
  },
  {
   "cell_type": "markdown",
   "metadata": {},
   "source": [
    "#### Implemetación en CPLEX"
   ]
  },
  {
   "cell_type": "code",
   "execution_count": null,
   "metadata": {},
   "outputs": [],
   "source": []
  },
  {
   "cell_type": "markdown",
   "metadata": {},
   "source": [
    "#### Carta Gantt   "
   ]
  },
  {
   "cell_type": "markdown",
   "metadata": {},
   "source": [
    "#### Implemetación en GUROBI"
   ]
  },
  {
   "cell_type": "code",
   "execution_count": null,
   "metadata": {},
   "outputs": [],
   "source": []
  },
  {
   "cell_type": "markdown",
   "metadata": {},
   "source": [
    "#### Carta Gantt   "
   ]
  },
  {
   "cell_type": "markdown",
   "metadata": {},
   "source": [
    "### Modelo Wilson"
   ]
  },
  {
   "cell_type": "markdown",
   "metadata": {},
   "source": [
    "### Modelo Manne"
   ]
  },
  {
   "cell_type": "markdown",
   "metadata": {},
   "source": [
    "### Modelo Liao-You"
   ]
  }
 ],
 "metadata": {
  "kernelspec": {
   "display_name": "Python 3",
   "language": "python",
   "name": "python3"
  },
  "language_info": {
   "codemirror_mode": {
    "name": "ipython",
    "version": 3
   },
   "file_extension": ".py",
   "mimetype": "text/x-python",
   "name": "python",
   "nbconvert_exporter": "python",
   "pygments_lexer": "ipython3",
   "version": "3.11.6"
  }
 },
 "nbformat": 4,
 "nbformat_minor": 2
}
