{
 "cells": [
  {
   "cell_type": "markdown",
   "metadata": {},
   "source": [
    "# Tarea 3 - Optimización\n",
    "- Integrantes: \n",
    "    - Samuel Coña J. - \n",
    "    - Daniel Lopez B. -\n",
    "    - Dayan Sáez C. - 2020444854\n",
    "    - Luis Valenzuela C. - 2020437548"
   ]
  },
  {
   "cell_type": "markdown",
   "metadata": {},
   "source": [
    "Instancia a resolver:\n",
    "\n",
    "<table>\n",
    "  <tr>\n",
    "    <th></th>\n",
    "    <th colspan=\"4\">\n",
    "      Máquinas r</th>\n",
    "  </tr>\n",
    "  <tr>\n",
    "    <th>Trabajo i</th>\n",
    "    <th>M<sub>1</th>\n",
    "    <th>M<sub>2</th>\n",
    "    <th>M<sub>3</th>\n",
    "    <th>M<sub>4</th>\n",
    "  </tr>\n",
    "  <tr>\n",
    "    <th>J<sub>1</th>\n",
    "    <th>9</th>\n",
    "    <th>13</th>\n",
    "    <th>15</th>\n",
    "    <th>20</th>\n",
    "  </tr>\n",
    "  <tr>\n",
    "    <th>J<sub>2</th>\n",
    "    <th>11</th>\n",
    "    <th>17</th>\n",
    "    <th>18</th>\n",
    "    <th>24</th>\n",
    "  </tr>\n",
    "  <tr>\n",
    "    <th>J<sub>3</th>\n",
    "    <th>8</th>\n",
    "    <th>12</th>\n",
    "    <th>14</th>\n",
    "    <th>18</th>\n",
    "  </tr>\n",
    "  <tr>\n",
    "    <th>J<sub>4</th>\n",
    "    <th>6</th>\n",
    "    <th>10</th>\n",
    "    <th>12</th>\n",
    "    <th>15</th>\n",
    "  </tr>"
   ]
  },
  {
   "cell_type": "code",
   "execution_count": 37,
   "metadata": {},
   "outputs": [],
   "source": [
    "T = [[9,13,15,20],\n",
    "     [11,17,18,24],\n",
    "     [8,12,14,18],\n",
    "     [6,10,12,15]]"
   ]
  },
  {
   "cell_type": "markdown",
   "metadata": {},
   "source": [
    "### Párametros de los modelos\n",
    "$ T_{ir} \\text{: Duración de proceso del trabajo i en maquina r.} \\\\$\n",
    "$ B_{jr} \\text{: Tiempo de inicio del trabajo j, en la posición de la secuencia, en máquina r.} \\\\$\n",
    "$ C_{ir} \\text{: Tiempo de finalización del trabajo i en la máquina r.} \\\\$\n",
    "$ D_{ik} \\text{: 1 si el } \\\\$\n",
    "$ E_{jr} \\text{: Hola} \\\\$\n",
    "$ S_{ir} \\text{: Hola} \\\\$\n",
    "$ X_{jr} \\text{: Hola} \\\\$\n",
    "$ Y_{jr} \\text{: Hola} \\\\$\n",
    "$ Z_{jr} \\text{: Hola} \\\\$"
   ]
  },
  {
   "cell_type": "markdown",
   "metadata": {},
   "source": []
  },
  {
   "cell_type": "markdown",
   "metadata": {},
   "source": [
    "### Modelo Wagner\n",
    "\n",
    "$$ Min \\quad C_{max} = C_{MN} $$\n",
    "$$ \\sum_{j=1}^{N} Z_{ij} = 1; \\quad (1 \\le i \\le N), \\quad (1) $$ \n",
    "$$ \\sum_{i=1}^{N} Z_{ij} = 1; \\quad (1 \\le j \\le N), \\quad (2)$$\n",
    "$$ \\sum_{i=1}^{N} T_{ri}Z_{i,j+1} - \\sum_{i=1}^{N} T_{r+1,i}Z_{ij} + X_{r,j+1} - X_{r+1,j+1} + Y_{r,j+1} - Y_{rj} = 0; \\quad (1 \\le r \\le M-1;1 \\le j \\le N-1), \\quad (3)\n",
    "$$\n",
    "\n",
    "$$ \\sum_{i=1}^{N} T_{ri}Z_{i1} + X_{r1} - X_{r+1,1} + Y_{r1} = 0; \\quad (1 \\le r \\le M-1), \\quad (4) $$\n",
    "\n",
    "$$ C_{MN} = \\sum_{i=1}^{N} T_{Mi} + \\sum_{p=1}^{N} X_{Mp}. \\quad (5) $$"
   ]
  },
  {
   "cell_type": "markdown",
   "metadata": {},
   "source": [
    "#### Implementación en PuLP"
   ]
  },
  {
   "cell_type": "code",
   "execution_count": 66,
   "metadata": {},
   "outputs": [
    {
     "name": "stdout",
     "output_type": "stream",
     "text": [
      "Objective Value: 105.0\n",
      "X_0_0 = 0.0\n",
      "X_0_1 = 6.0\n",
      "X_0_2 = 16.0\n",
      "X_0_3 = 28.0\n",
      "X_1_0 = 0.0\n",
      "X_1_1 = 0.0\n",
      "X_1_2 = 0.0\n",
      "X_1_3 = 0.0\n",
      "X_2_0 = 0.0\n",
      "X_2_1 = 0.0\n",
      "X_2_2 = 0.0\n",
      "X_2_3 = 0.0\n",
      "X_3_0 = 0.0\n",
      "X_3_1 = 0.0\n",
      "X_3_2 = 1.0\n",
      "X_3_3 = 0.0\n"
     ]
    }
   ],
   "source": [
    "import pulp as lp\n",
    "import numpy as np\n",
    "\n",
    "T = [[9,13,15,20],\n",
    "     [11,17,18,24],\n",
    "     [8,12,14,18],\n",
    "     [6,10,12,15]]\n",
    "\n",
    "# Create the LP problem\n",
    "model = lp.LpProblem(\"Wagner_Model\", lp.LpMinimize)\n",
    "\n",
    "# Define the decision variables\n",
    "N = len(T)  # Number of jobs\n",
    "M = len(T[0])  # Number of machines\n",
    "\n",
    "Z = lp.LpVariable.dicts(\"Z\", (range(N), range(N)), cat='Binary')\n",
    "X = lp.LpVariable.dicts(\"X\", (range(M), range(N)), lowBound=0, cat='Integer')\n",
    "Y = lp.LpVariable.dicts(\"Y\", (range(M), range(N)), lowBound=0, cat='Integer')\n",
    "\n",
    "# Define the objective function\n",
    "model += lp.lpSum(T[i][M - 1] for i in range(N)) + lp.lpSum(X[i][M - 1] for i in range(N))\n",
    "\n",
    "# Define the constraints\n",
    "for i in range(N):\n",
    "    model += lp.lpSum(Z[i][j] for j in range(N)) == 1\n",
    "    \n",
    "for j in range(N):\n",
    "    model += lp.lpSum(Z[i][j] for i in range(N)) == 1\n",
    "\n",
    "for r in range(M - 1):\n",
    "    for j in range(N - 1):\n",
    "        model += lp.lpSum(T[i][r] * Z[i][j + 1] for i in range(N)) - lp.lpSum(T[i][r + 1] * Z[i][j] for i in range(N)) + \\\n",
    "                  X[j + 1][r] - X[j + 1][r + 1] + Y[j + 1][r] - Y[j][r] == 0\n",
    "\n",
    "for r in range(M - 1):\n",
    "    model += lp.lpSum(T[i][r] * Z[i][0] for i in range(N)) +  X[0][r] - X[0][r + 1] + Y[0][r] == 0\n",
    "\n",
    "# Solve the LP problem\n",
    "solution = model.solve()\n",
    "\n",
    "# Print the optimal solution\n",
    "print(\"Objective Value:\", lp.value(model.objective))\n",
    "\n",
    "for i in range(N):\n",
    "    for j in range(N):\n",
    "        print(f\"X_{i}_{j} = {lp.value(X[i][j])}\")\n"
   ]
  },
  {
   "cell_type": "markdown",
   "metadata": {},
   "source": [
    "#### Carta Gantt   "
   ]
  },
  {
   "cell_type": "code",
   "execution_count": 39,
   "metadata": {},
   "outputs": [
    {
     "data": {
      "image/png": "[encoded data removed]",
      "text/plain": [
       "<Figure size 640x480 with 1 Axes>"
      ]
     },
     "metadata": {},
     "output_type": "display_data"
    }
   ],
   "source": [
    "import matplotlib.pyplot as plt\n",
    "\n",
    "unos_tareas = [(i, j) for i in range(N) for j in range(N) if Z[i][j].varValue == 1]\n",
    "orden_tareas = sorted(unos_tareas, key=lambda x: x[1])\n",
    "\n",
    "ht = lp.value(model.objective)\n",
    "nmaquinas = 4\n",
    "hbar = 10\n",
    "maquinas = [\"M1\", \"M2\", \"M3\", \"M4\"]\n",
    "\n",
    "fig, gantt = plt.subplots()\n",
    "gantt.set_xlabel('Tiempo')\n",
    "gantt.set_ylabel('Máquinas')\n",
    "gantt.set_xlim(0, ht)\n",
    "gantt.set_ylim(0, nmaquinas * hbar)\n",
    "\n",
    "gantt.set_yticks(np.arange(hbar, nmaquinas * hbar, hbar),minor=True)\n",
    "gantt.grid(True, axis='y',which='minor')\n",
    "\n",
    "gantt.set_yticks(np.arange(hbar/2, nmaquinas * hbar, hbar))\n",
    "gantt.set_yticklabels(maquinas)\n",
    "\n",
    "matriz = [[0 for x in range(N)] for y in range(M)]\n",
    "for i in range(M):\n",
    "    inicio = lp.value(X[0][i])\n",
    "    for j in range(N):\n",
    "        duracion_tarea = T[orden_tareas[j][0]][i]\n",
    "        if (i > 0):\n",
    "            if(matriz[i-1][j][1] > inicio):\n",
    "                inicio += lp.value(X[j][i])\n",
    "        termino = inicio + duracion_tarea\n",
    "        matriz[i][j] = [int(inicio), int(termino)]\n",
    "        inicio = termino\n",
    "\n",
    "for i in range(M):\n",
    "    for j in range(N):\n",
    "        if (j == 0): color = '#00BB00'\n",
    "        if (j == 1): color = 'blue'\n",
    "        if (j == 2): color = 'red'\n",
    "        if (j == 3): color = '#EECC00'\n",
    "        inicio = matriz[i][j][0]\n",
    "        duracion_tarea = matriz[i][j][1] - matriz[i][j][0]\n",
    "        gantt.broken_barh([(inicio, duracion_tarea)], (i * hbar, hbar), facecolors=color)\n",
    "        gantt.text(x=(inicio + duracion_tarea/4), y=(i*hbar + hbar/3), s='('+str(duracion_tarea)+')', va='center', color='white', fontweight='bold')\n",
    "        gantt.text(x=(inicio + duracion_tarea/4), y=(i*hbar + 3*hbar/5), s='J'+str(1+orden_tareas[j][0]), va='center', color='white', fontweight='bold')"
   ]
  },
  {
   "cell_type": "markdown",
   "metadata": {},
   "source": [
    "#### Implementación en CPLEX"
   ]
  },
  {
   "cell_type": "code",
   "execution_count": 87,
   "metadata": {},
   "outputs": [
    {
     "name": "stdout",
     "output_type": "stream",
     "text": [
      "Objective Value: 105.0\n"
     ]
    }
   ],
   "source": [
    "from docplex.mp.model import Model\n",
    "import numpy as np\n",
    "\n",
    "T = [[9,13,15,20],\n",
    "     [11,17,18,24],\n",
    "     [8,12,14,18],\n",
    "     [6,10,12,15]]\n",
    "\n",
    "# Create the model\n",
    "model = Model(name=\"Wagner_Model\")\n",
    "\n",
    "# Define the decision variables\n",
    "N = len(T)  # Number of jobs\n",
    "M = len(T[0])  # Number of machines\n",
    "\n",
    "Z = {(i, j): model.binary_var(name=f\"Z_{i}_{j}\") for i in range(N) for j in range(M)}\n",
    "X = {(i, j): model.integer_var(name=f\"X_{i}_{j}\", lb=0) for i in range(N) for j in range(M)}\n",
    "Y = {(i, j): model.integer_var(name=f\"Y_{i}_{j}\", lb=0) for i in range(N) for j in range(M)}\n",
    "\n",
    "# Define the objective function\n",
    "model.minimize(model.sum(T[i][M - 1]for i in range(N)) + model.sum(X[p, M - 1] for p in range(N)))\n",
    "\n",
    "# Define the constraints\n",
    "for i in range(N):\n",
    "    model.add_constraint(model.sum(Z[i, j] for j in range(N)) == 1)\n",
    "    \n",
    "for j in range(N):\n",
    "    model.add_constraint(model.sum(Z[i, j] for i in range(N)) == 1)\n",
    "\n",
    "for r in range(M - 1):\n",
    "    for j in range(N - 1):\n",
    "        model.add_constraint(model.sum(T[i][r] * Z[i, j + 1] for i in range(N)) -\n",
    "                             model.sum(T[i][r + 1] * Z[i, j] for i in range(N)) +\n",
    "                             X[j + 1, r] - X[j + 1, r + 1] + Y[j + 1, r] - Y[j, r] == 0)\n",
    "\n",
    "for r in range(M - 1):\n",
    "    model.add_constraint(model.sum(T[i][r] * Z[i, 0] for i in range(N)) +\n",
    "                         X[0, r] - X[0, r + 1] + Y[0, r] == 0)\n",
    "\n",
    "# Solve the model\n",
    "solution = model.solve()\n",
    "# Print the optimal solution\n",
    "print(\"Objective Value:\", solution.get_objective_value())\n"
   ]
  },
  {
   "cell_type": "markdown",
   "metadata": {},
   "source": [
    "#### Carta Gantt   "
   ]
  },
  {
   "cell_type": "code",
   "execution_count": 86,
   "metadata": {},
   "outputs": [
    {
     "data": {
      "image/png": "[encoded data removed]",
      "text/plain": [
       "<Figure size 640x480 with 1 Axes>"
      ]
     },
     "metadata": {},
     "output_type": "display_data"
    }
   ],
   "source": [
    "import matplotlib.pyplot as plt\n",
    "\n",
    "unos_tareas = [(i, j) for i in range(N) for j in range(N) if solution.get_value(Z[i, j]) == 1]\n",
    "orden_tareas = sorted(unos_tareas, key=lambda x: x[1])\n",
    "\n",
    "ht = solution.get_objective_value()\n",
    "nmaquinas = 4\n",
    "hbar = 10\n",
    "maquinas = [\"M1\", \"M2\", \"M3\", \"M4\"]\n",
    "\n",
    "fig, gantt = plt.subplots()\n",
    "gantt.set_xlabel('Tiempo')\n",
    "gantt.set_ylabel('Máquinas')\n",
    "gantt.set_xlim(0, ht)\n",
    "gantt.set_ylim(0, nmaquinas * hbar)\n",
    "\n",
    "gantt.set_yticks(np.arange(hbar, nmaquinas * hbar, hbar),minor=True)\n",
    "gantt.grid(True, axis='y',which='minor')\n",
    "\n",
    "gantt.set_yticks(np.arange(hbar/2, nmaquinas * hbar, hbar))\n",
    "gantt.set_yticklabels(maquinas)\n",
    "\n",
    "matriz = [[0 for x in range(N)] for y in range(M)]\n",
    "for i in range(M):\n",
    "    inicio = solution.get_value(X[0, i])\n",
    "    for j in range(N):\n",
    "        duracion_tarea = T[orden_tareas[j][0]][i]\n",
    "        if (i > 0):\n",
    "            if(matriz[i-1][j][1] > inicio):\n",
    "                inicio += solution.get_value(X[j, i])\n",
    "        termino = inicio + duracion_tarea\n",
    "        matriz[i][j] = [int(inicio), int(termino)]\n",
    "        inicio = termino\n",
    "\n",
    "for i in range(M):\n",
    "    for j in range(N):\n",
    "        if (j == 0): color = '#00BB00'\n",
    "        if (j == 1): color = 'blue'\n",
    "        if (j == 2): color = 'red'\n",
    "        if (j == 3): color = '#EECC00'\n",
    "        inicio = matriz[i][j][0]\n",
    "        duracion_tarea = matriz[i][j][1] - matriz[i][j][0]\n",
    "        gantt.broken_barh([(inicio, duracion_tarea)], (i * hbar, hbar), facecolors=color)\n",
    "        gantt.text(x=(inicio + duracion_tarea/4), y=(i*hbar + hbar/3), s='('+str(duracion_tarea)+')', va='center', color='white', fontweight='bold')\n",
    "        gantt.text(x=(inicio + duracion_tarea/4), y=(i*hbar + 3*hbar/5), s='J'+str(1+orden_tareas[j][0]), va='center', color='white', fontweight='bold')"
   ]
  },
  {
   "cell_type": "markdown",
   "metadata": {},
   "source": [
    "#### Implementación en GUROBI"
   ]
  },
  {
   "cell_type": "code",
   "execution_count": 117,
   "metadata": {},
   "outputs": [
    {
     "name": "stdout",
     "output_type": "stream",
     "text": [
      "Objective Value: 105.0\n",
      "Y[0, 0] = 0.0\n",
      "Y[0, 1] = 0.0\n",
      "Y[0, 2] = 0.0\n",
      "Y[0, 3] = -0.0\n",
      "Y[1, 0] = 2.0\n",
      "Y[1, 1] = 1.0\n",
      "Y[1, 2] = -0.0\n",
      "Y[1, 3] = -0.0\n",
      "Y[2, 0] = 5.0\n",
      "Y[2, 1] = 2.0\n",
      "Y[2, 2] = 3.0\n",
      "Y[2, 3] = -0.0\n",
      "Y[3, 0] = -0.0\n",
      "Y[3, 1] = 0.0\n",
      "Y[3, 2] = 5.0\n",
      "Y[3, 3] = -0.0\n",
      "Z[3, 1] = 1.0\n",
      "Z[4, 2] = 1.0\n",
      "Z[2, 3] = 1.0\n",
      "Z[1, 4] = 1.0\n"
     ]
    }
   ],
   "source": [
    "import gurobipy as gp\n",
    "\n",
    "T = [[9,13,15,20],\n",
    "     [11,17,18,24],\n",
    "     [8,12,14,18],\n",
    "     [6,10,12,15]]\n",
    "\n",
    "# Create the model\n",
    "model = gp.Model(\"Wagner_Model\")\n",
    "\n",
    "# Define the decision variables\n",
    "N = len(T)  # Number of jobs\n",
    "M = len(T[0])  # Number of machines\n",
    "Z = model.addVars(N, N, vtype=gp.GRB.BINARY, name=\"Z\")\n",
    "X = model.addVars(M, N, vtype=gp.GRB.INTEGER, lb=0, name=\"X\")\n",
    "Y = model.addVars(M, N, vtype=gp.GRB.INTEGER, lb=0, name=\"Y\")\n",
    "\n",
    "# Define the objective function\n",
    "model.setObjective(gp.quicksum(T[i][M - 1] * Z[i, j] for i in range(N) for j in range(M)) +\n",
    "                   gp.quicksum(X[i, M - 1] for i in range(N)), gp.GRB.MINIMIZE)\n",
    "\n",
    "# Define the constraints\n",
    "for i in range(N):\n",
    "    model.addConstr(gp.quicksum(Z[i, j] for j in range(N)) == 1)\n",
    "    \n",
    "for j in range(N):\n",
    "    model.addConstr(gp.quicksum(Z[i, j] for i in range(N)) == 1)\n",
    "\n",
    "for r in range(M - 1):\n",
    "    for j in range(N - 1):\n",
    "        model.addConstr(gp.quicksum(T[i][r] * Z[i, j + 1] for i in range(N)) -\n",
    "                        gp.quicksum(T[i][r + 1] * Z[i, j] for i in range(N)) +\n",
    "                        X[j + 1, r] - X[j + 1, r + 1] + Y[j + 1, r] - Y[j, r] == 0)\n",
    "\n",
    "for r in range(M - 1):\n",
    "    model.addConstr(gp.quicksum(T[i][r] * Z[i, 0] for i in range(N)) +\n",
    "                    X[0, r] - X[0, r + 1] + Y[0, r] == 0)\n",
    "\n",
    "# Solve the model\n",
    "model.setParam('OutputFlag', False)\n",
    "model.optimize()\n",
    "\n",
    "# Print the optimal solution\n",
    "print(\"Objective Value:\", model.objVal)\n",
    "\n",
    "for i in range(M):\n",
    "    for j in range(N):\n",
    "        print(f\"Y[{i}, {j}] = {Y[i, j].x}\")\n",
    "for i in range(N):\n",
    "    for j in range(N):\n",
    "        if (Z[i, j].x == 1):\n",
    "            print(f\"Z[{j+1}, {i+1}] = {Z[i, j].x}\")\n",
    "\n"
   ]
  },
  {
   "cell_type": "markdown",
   "metadata": {},
   "source": [
    "#### Carta Gantt   "
   ]
  },
  {
   "cell_type": "code",
   "execution_count": 124,
   "metadata": {},
   "outputs": [
    {
     "name": "stdout",
     "output_type": "stream",
     "text": [
      "Y[3, 2] = -0.0\n"
     ]
    },
    {
     "data": {
      "image/png": "[encoded data removed]",
      "text/plain": [
       "<Figure size 640x480 with 1 Axes>"
      ]
     },
     "metadata": {},
     "output_type": "display_data"
    }
   ],
   "source": [
    "import matplotlib.pyplot as plt\n",
    "\n",
    "unos_tareas = [(i, j) for i in range(N) for j in range(N) if Z[i, j].x == 1]\n",
    "orden_tareas = sorted(unos_tareas, key=lambda x: x[1])\n",
    "\n",
    "ht = model.objVal\n",
    "nmaquinas = 4\n",
    "hbar = 10\n",
    "maquinas = [\"M1\", \"M2\", \"M3\", \"M4\"]\n",
    "\n",
    "fig, gantt = plt.subplots()\n",
    "gantt.set_xlabel('Tiempo')\n",
    "gantt.set_ylabel('Máquinas')\n",
    "gantt.set_xlim(0, ht)\n",
    "gantt.set_ylim(0, nmaquinas * hbar)\n",
    "\n",
    "gantt.set_yticks(np.arange(hbar, nmaquinas * hbar, hbar),minor=True)\n",
    "gantt.grid(True, axis='y',which='minor')\n",
    "\n",
    "gantt.set_yticks(np.arange(hbar/2, nmaquinas * hbar, hbar))\n",
    "gantt.set_yticklabels(maquinas)\n",
    "\n",
    "matriz = [[0 for x in range(N)] for y in range(M)]\n",
    "for i in range(M):\n",
    "    inicio = X[0, i].x\n",
    "    for j in range(N):\n",
    "        duracion_tarea = T[orden_tareas[j][0]][i]\n",
    "        if (i > 0):\n",
    "            if(matriz[i-1][j][1] > inicio):\n",
    "                inicio += min(X[j, i].x, Y[j-1, i].x)\n",
    "                print(f\"Y[{j}, {i}] = {X[j, i].x}\")\n",
    "        termino = inicio + duracion_tarea\n",
    "        matriz[i][j] = [int(inicio), int(termino)]\n",
    "        inicio = termino\n",
    "\n",
    "for i in range(M):\n",
    "    for j in range(N):\n",
    "        if (j == 0): color = '#00BB00'\n",
    "        if (j == 1): color = 'blue'\n",
    "        if (j == 2): color = 'red'\n",
    "        if (j == 3): color = '#EECC00'\n",
    "        inicio = matriz[i][j][0]\n",
    "        duracion_tarea = matriz[i][j][1] - matriz[i][j][0]\n",
    "        gantt.broken_barh([(inicio, duracion_tarea)], (i * hbar, hbar), facecolors=color)\n",
    "        gantt.text(x=(inicio + duracion_tarea/4), y=(i*hbar + hbar/3), s='('+str(duracion_tarea)+')', va='center', color='white', fontweight='bold')\n",
    "        gantt.text(x=(inicio + duracion_tarea/4), y=(i*hbar + 3*hbar/5), s='J'+str(1+orden_tareas[j][0]), va='center', color='white', fontweight='bold')"
   ]
  },
  {
   "cell_type": "markdown",
   "metadata": {},
   "source": [
    "### Modelo Wilson\n",
    "$$ Min \\quad C_{max} = B_{MN} + \\sum_{i=1}^{N}T_{Mi}Z_{iN} $$\n",
    "$$ \\sum_{j=1}^{N} Z_{ij} = 1; \\quad (1 \\le i \\le N), \\quad (1) $$ \n",
    "$$ \\sum_{i=1}^{N} Z_{ij} = 1; \\quad (1 \\le j \\le N), \\quad (2)$$\n",
    "$$ B_{1j}+\\sum_{i=1}^{N} T_{1i}Z_{1j} = B_{1,j+1}; \\quad (1\\leq j \\leq N-1), \\quad (3)$$\n",
    "$$ B_{11} = 0, \\quad(4)$$\n",
    "$$ B_{r1} + \\sum_{i=1}^{N} T_{ri}Z_{i1} = B_{r+1,1}; \\quad (1\\leq r \\leq M-1),\\quad (5) $$\n",
    "\n",
    "$$ B_{rj} + \\sum_{i=1}^{N}T_{ri}Z_{ij} \\leq B_{r+1,j}; \\quad (1\\leq r\\leq M-1;2\\leq j \\leq N), \\quad (6) $$\n",
    "$$ B_{rj} + \\sum_{i=1}^N T_{ri}Z_{ij} \\leq B_{r,j+1}; \\quad (2\\leq r\\leq M; 1\\leq j\\leq N-1). \\quad (7) $$"
   ]
  },
  {
   "cell_type": "code",
   "execution_count": 44,
   "metadata": {},
   "outputs": [
    {
     "name": "stdout",
     "output_type": "stream",
     "text": [
      "Objective Value: 101.0\n",
      "B_0_0 = 0.0\n",
      "B_0_1 = 6.0\n",
      "B_0_2 = 16.0\n",
      "B_0_3 = 28.0\n",
      "B_1_0 = 6.0\n",
      "B_1_1 = 50.0\n",
      "B_1_2 = 28.0\n",
      "B_1_3 = 43.0\n",
      "B_2_0 = 14.0\n",
      "B_2_1 = 62.0\n",
      "B_2_2 = 63.0\n",
      "B_2_3 = 61.0\n",
      "B_3_0 = 23.0\n",
      "B_3_1 = 75.0\n",
      "B_3_2 = 79.0\n",
      "B_3_3 = 81.0\n",
      "Z_0_0 = 0.0\n",
      "Z_0_1 = 0.0\n",
      "Z_0_2 = 1.0\n",
      "Z_0_3 = 0.0\n",
      "Z_1_0 = 0.0\n",
      "Z_1_1 = 0.0\n",
      "Z_1_2 = 0.0\n",
      "Z_1_3 = 1.0\n",
      "Z_2_0 = 0.0\n",
      "Z_2_1 = 1.0\n",
      "Z_2_2 = 0.0\n",
      "Z_2_3 = 0.0\n",
      "Z_3_0 = 1.0\n",
      "Z_3_1 = 0.0\n",
      "Z_3_2 = 0.0\n",
      "Z_3_3 = 0.0\n",
      "Objective Value: 101.0\n"
     ]
    }
   ],
   "source": [
    "import pulp as lp\n",
    "import matplotlib.pyplot as plt\n",
    "import numpy as np\n",
    "\n",
    "T = [[9,13,15,20],\n",
    "     [11,17,18,24],\n",
    "     [8,12,14,18],\n",
    "     [6,10,12,15]]\n",
    "\n",
    "# Create the LP problem\n",
    "model = lp.LpProblem(\"Wagner_Model\", lp.LpMinimize)\n",
    "\n",
    "# Define the decision variables\n",
    "N = len(T)  # Number of jobs\n",
    "M = len(T[0])  # Number of machines\n",
    "\n",
    "Z = lp.LpVariable.dicts(\"Z\", (range(N), range(N)), cat='Binary')\n",
    "B = lp.LpVariable.dicts(\"B\", (range(N), range(M)), lowBound=0, cat='Integer')\n",
    "\n",
    "# Define the objective function\n",
    "model += B[N-1][M-1] + lp.lpSum(T[i][M - 1] * Z[N-1][i] for i in range(N))\n",
    "\n",
    "# Define the constraints\n",
    "for i in range(N):\n",
    "    model += lp.lpSum(Z[i][j] for j in range(N)) == 1\n",
    "    \n",
    "for j in range(N):\n",
    "    model += lp.lpSum(Z[i][j] for i in range(N)) == 1\n",
    "\n",
    "for j in range(N-1):\n",
    "    model += B[j][0] + lp.lpSum(T[i][0] * Z[i][j] for i in range(N)) == B[j+1][0]\n",
    "\n",
    "model += B[0][0] == 0\n",
    "\n",
    "for r in range(M-1):\n",
    "    model += (B[0][r] + lp.lpSum(T[i][r] * Z[i][0] for i in range(N)) == B[0][r+1])\n",
    "\n",
    "for r in range(M-1):\n",
    "    for j in range(N-1):\n",
    "        model += (B[j][r] + lp.lpSum(T[i][r] * Z[i][j+1] for i in range(N))) <= B[j+1][r+1]\n",
    "        \n",
    "for r in range(M-1):\n",
    "    for j in range(N-1):\n",
    "        model += B[j][r+1] + lp.lpSum(T[i][r+1] * Z[i][j] for i in range(N)) <= B[j+1][r+1]\n",
    "\n",
    "# Solve the LP problem\n",
    "solution = model.solve()\n",
    "\n",
    "# Print the optimal solution\n",
    "print(\"Objective Value:\", lp.value(model.objective))\n",
    "\n",
    "for v in model.variables():\n",
    "    print(v.name, \"=\", v.varValue)\n",
    "print(\"Objective Value:\", model.objective.value())\n"
   ]
  },
  {
   "cell_type": "code",
   "execution_count": 45,
   "metadata": {},
   "outputs": [
    {
     "data": {
      "image/png": "[encoded data removed]",
      "text/plain": [
       "<Figure size 640x480 with 1 Axes>"
      ]
     },
     "metadata": {},
     "output_type": "display_data"
    }
   ],
   "source": [
    "import matplotlib.pyplot as plt\n",
    "\n",
    "unos_tareas = [(i, j) for i in range(N) for j in range(N) if Z[i][j].varValue == 1]\n",
    "orden_tareas = sorted(unos_tareas, key=lambda x: x[1])\n",
    "\n",
    "ht = lp.value(model.objective)\n",
    "nmaquinas = 4\n",
    "hbar = 10\n",
    "maquinas = [\"M1\", \"M2\", \"M3\", \"M4\"]\n",
    "\n",
    "fig, gantt = plt.subplots()\n",
    "gantt.set_xlabel('Tiempo')\n",
    "gantt.set_ylabel('Máquinas')\n",
    "gantt.set_xlim(0, ht)\n",
    "gantt.set_ylim(0, nmaquinas * hbar)\n",
    "\n",
    "gantt.set_yticks(np.arange(hbar, nmaquinas * hbar, hbar),minor=True)\n",
    "gantt.grid(True, axis='y',which='minor')\n",
    "\n",
    "gantt.set_yticks(np.arange(hbar/2, nmaquinas * hbar, hbar))\n",
    "gantt.set_yticklabels(maquinas)\n",
    "\n",
    "for i in range(M):\n",
    "    inicio = lp.value(B[0][i])\n",
    "    for j in range(N):\n",
    "        duracion_tarea = T[orden_tareas[j][0]][i]\n",
    "        if (j == 0): color = '#00BB00'\n",
    "        if (j == 1): color = 'blue'\n",
    "        if (j == 2): color = 'red'\n",
    "        if (j == 3): color = '#EECC00'\n",
    "        gantt.broken_barh([(inicio, duracion_tarea)], (i * hbar, hbar), facecolors=color)\n",
    "        gantt.text(x=(inicio + duracion_tarea/4), y=(i*hbar + hbar/3), s='('+str(duracion_tarea)+')', va='center', color='white', fontweight='bold')\n",
    "        gantt.text(x=(inicio + duracion_tarea/4), y=(i*hbar + 3*hbar/5), s='J'+str(1+orden_tareas[j][0]), va='center', color='white', fontweight='bold')\n",
    "        inicio += duracion_tarea"
   ]
  },
  {
   "cell_type": "markdown",
   "metadata": {},
   "source": [
    "### Modelo Manne"
   ]
  },
  {
   "cell_type": "markdown",
   "metadata": {},
   "source": [
    "### Modelo Liao-You"
   ]
  }
 ],
 "metadata": {
  "kernelspec": {
   "display_name": "Python 3",
   "language": "python",
   "name": "python3"
  },
  "language_info": {
   "codemirror_mode": {
    "name": "ipython",
    "version": 3
   },
   "file_extension": ".py",
   "mimetype": "text/x-python",
   "name": "python",
   "nbconvert_exporter": "python",
   "pygments_lexer": "ipython3",
   "version": "3.11.6"
  }
 },
 "nbformat": 4,
 "nbformat_minor": 2
}
